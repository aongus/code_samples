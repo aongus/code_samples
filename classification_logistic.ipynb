{
 "cells": [
  {
   "cell_type": "markdown",
   "metadata": {
    "deletable": true,
    "editable": true
   },
   "source": [
    "# Logit, Precision, Recall\n",
    "\n",
    "This project uses baby-related item reviews from Amazon to build a bag-of-words model for sentiment analysis - check whether a review is positive or negative.\n",
    "\n",
    "1. Read in data and initial formatting\n",
    "2. Build sparse matrix (bag of words) from training data and test data\n",
    "3. Train logistic regression model on training data matrix \n",
    "4. Evaluate model performance on test data\n",
    "\n",
    "5. Change probability threshold to explore precision-recall curve: effects of favoring false positive or false negatives as preferred error type"
   ]
  },
  {
   "cell_type": "code",
   "execution_count": 1,
   "metadata": {
    "collapsed": true,
    "deletable": true,
    "editable": true
   },
   "outputs": [],
   "source": [
    "import os, sys, csv, string\n",
    "\n",
    "import numpy as np\n",
    "import pandas as pd\n",
    "import matplotlib as mpl\n",
    "import matplotlib.pyplot as plt\n",
    "\n",
    "from __future__ import division # 5/2 = 2.5\n",
    "\n",
    "%matplotlib inline"
   ]
  },
  {
   "cell_type": "markdown",
   "metadata": {
    "deletable": true,
    "editable": true
   },
   "source": [
    "# Initial data formatting\n",
    "\n",
    "1. Read in data (amazon_baby.csv)\n",
    "\n",
    "2. Remove punctuation\n",
    "\n",
    "3. Remove 3-star reviews (assume neutral)\n",
    "\n",
    "4. Denote 4,5-star reviews as +1, 1,2-star reviews as -1 (positive & negative classes)"
   ]
  },
  {
   "cell_type": "markdown",
   "metadata": {
    "deletable": true,
    "editable": true
   },
   "source": [
    "### Read in data"
   ]
  },
  {
   "cell_type": "code",
   "execution_count": 2,
   "metadata": {
    "collapsed": false,
    "deletable": true,
    "editable": true
   },
   "outputs": [
    {
     "name": "stdout",
     "output_type": "stream",
     "text": [
      "183531\n"
     ]
    }
   ],
   "source": [
    "#data readin\n",
    "\n",
    "dtype_dict = {'name':str, 'review':str, 'rating':int}\n",
    "\n",
    "df1 = pd.read_csv('amazon_baby.csv', dtype=dtype_dict)\n",
    "df1 = df1.fillna({'review':''})  # fill in N/A's in the review column with empty strings\n",
    "#df1.head()\n",
    "print len(df1)    "
   ]
  },
  {
   "cell_type": "markdown",
   "metadata": {
    "deletable": true,
    "editable": true
   },
   "source": [
    "### Remove punctuation"
   ]
  },
  {
   "cell_type": "code",
   "execution_count": 3,
   "metadata": {
    "collapsed": true,
    "deletable": true,
    "editable": true
   },
   "outputs": [],
   "source": [
    "def remove_punctuation(text):\n",
    "    return text.translate(None, string.punctuation) "
   ]
  },
  {
   "cell_type": "code",
   "execution_count": 4,
   "metadata": {
    "collapsed": false,
    "deletable": true,
    "editable": true
   },
   "outputs": [
    {
     "data": {
      "text/html": [
       "<div>\n",
       "<table border=\"1\" class=\"dataframe\">\n",
       "  <thead>\n",
       "    <tr style=\"text-align: right;\">\n",
       "      <th></th>\n",
       "      <th>name</th>\n",
       "      <th>review</th>\n",
       "      <th>rating</th>\n",
       "      <th>review_clean</th>\n",
       "    </tr>\n",
       "  </thead>\n",
       "  <tbody>\n",
       "    <tr>\n",
       "      <th>0</th>\n",
       "      <td>Planetwise Flannel Wipes</td>\n",
       "      <td>These flannel wipes are OK, but in my opinion ...</td>\n",
       "      <td>3</td>\n",
       "      <td>These flannel wipes are OK but in my opinion n...</td>\n",
       "    </tr>\n",
       "    <tr>\n",
       "      <th>1</th>\n",
       "      <td>Planetwise Wipe Pouch</td>\n",
       "      <td>it came early and was not disappointed. i love...</td>\n",
       "      <td>5</td>\n",
       "      <td>it came early and was not disappointed i love ...</td>\n",
       "    </tr>\n",
       "    <tr>\n",
       "      <th>2</th>\n",
       "      <td>Annas Dream Full Quilt with 2 Shams</td>\n",
       "      <td>Very soft and comfortable and warmer than it l...</td>\n",
       "      <td>5</td>\n",
       "      <td>Very soft and comfortable and warmer than it l...</td>\n",
       "    </tr>\n",
       "    <tr>\n",
       "      <th>3</th>\n",
       "      <td>Stop Pacifier Sucking without tears with Thumb...</td>\n",
       "      <td>This is a product well worth the purchase.  I ...</td>\n",
       "      <td>5</td>\n",
       "      <td>This is a product well worth the purchase  I h...</td>\n",
       "    </tr>\n",
       "    <tr>\n",
       "      <th>4</th>\n",
       "      <td>Stop Pacifier Sucking without tears with Thumb...</td>\n",
       "      <td>All of my kids have cried non-stop when I trie...</td>\n",
       "      <td>5</td>\n",
       "      <td>All of my kids have cried nonstop when I tried...</td>\n",
       "    </tr>\n",
       "  </tbody>\n",
       "</table>\n",
       "</div>"
      ],
      "text/plain": [
       "                                                name  \\\n",
       "0                           Planetwise Flannel Wipes   \n",
       "1                              Planetwise Wipe Pouch   \n",
       "2                Annas Dream Full Quilt with 2 Shams   \n",
       "3  Stop Pacifier Sucking without tears with Thumb...   \n",
       "4  Stop Pacifier Sucking without tears with Thumb...   \n",
       "\n",
       "                                              review  rating  \\\n",
       "0  These flannel wipes are OK, but in my opinion ...       3   \n",
       "1  it came early and was not disappointed. i love...       5   \n",
       "2  Very soft and comfortable and warmer than it l...       5   \n",
       "3  This is a product well worth the purchase.  I ...       5   \n",
       "4  All of my kids have cried non-stop when I trie...       5   \n",
       "\n",
       "                                        review_clean  \n",
       "0  These flannel wipes are OK but in my opinion n...  \n",
       "1  it came early and was not disappointed i love ...  \n",
       "2  Very soft and comfortable and warmer than it l...  \n",
       "3  This is a product well worth the purchase  I h...  \n",
       "4  All of my kids have cried nonstop when I tried...  "
      ]
     },
     "execution_count": 4,
     "metadata": {},
     "output_type": "execute_result"
    }
   ],
   "source": [
    "#remove punctuation and check\n",
    "\n",
    "df1['review_clean'] = df1['review'].apply(remove_punctuation)\n",
    "df1.head()\n"
   ]
  },
  {
   "cell_type": "markdown",
   "metadata": {
    "deletable": true,
    "editable": true
   },
   "source": [
    "### Remove neutral reviews (3 stars)"
   ]
  },
  {
   "cell_type": "code",
   "execution_count": 5,
   "metadata": {
    "collapsed": false,
    "deletable": true,
    "editable": true
   },
   "outputs": [
    {
     "data": {
      "text/html": [
       "<div>\n",
       "<table border=\"1\" class=\"dataframe\">\n",
       "  <thead>\n",
       "    <tr style=\"text-align: right;\">\n",
       "      <th></th>\n",
       "      <th>name</th>\n",
       "      <th>review</th>\n",
       "      <th>rating</th>\n",
       "      <th>review_clean</th>\n",
       "    </tr>\n",
       "  </thead>\n",
       "  <tbody>\n",
       "    <tr>\n",
       "      <th>1</th>\n",
       "      <td>Planetwise Wipe Pouch</td>\n",
       "      <td>it came early and was not disappointed. i love...</td>\n",
       "      <td>5</td>\n",
       "      <td>it came early and was not disappointed i love ...</td>\n",
       "    </tr>\n",
       "    <tr>\n",
       "      <th>2</th>\n",
       "      <td>Annas Dream Full Quilt with 2 Shams</td>\n",
       "      <td>Very soft and comfortable and warmer than it l...</td>\n",
       "      <td>5</td>\n",
       "      <td>Very soft and comfortable and warmer than it l...</td>\n",
       "    </tr>\n",
       "    <tr>\n",
       "      <th>3</th>\n",
       "      <td>Stop Pacifier Sucking without tears with Thumb...</td>\n",
       "      <td>This is a product well worth the purchase.  I ...</td>\n",
       "      <td>5</td>\n",
       "      <td>This is a product well worth the purchase  I h...</td>\n",
       "    </tr>\n",
       "    <tr>\n",
       "      <th>4</th>\n",
       "      <td>Stop Pacifier Sucking without tears with Thumb...</td>\n",
       "      <td>All of my kids have cried non-stop when I trie...</td>\n",
       "      <td>5</td>\n",
       "      <td>All of my kids have cried nonstop when I tried...</td>\n",
       "    </tr>\n",
       "    <tr>\n",
       "      <th>5</th>\n",
       "      <td>Stop Pacifier Sucking without tears with Thumb...</td>\n",
       "      <td>When the Binky Fairy came to our house, we did...</td>\n",
       "      <td>5</td>\n",
       "      <td>When the Binky Fairy came to our house we didn...</td>\n",
       "    </tr>\n",
       "  </tbody>\n",
       "</table>\n",
       "</div>"
      ],
      "text/plain": [
       "                                                name  \\\n",
       "1                              Planetwise Wipe Pouch   \n",
       "2                Annas Dream Full Quilt with 2 Shams   \n",
       "3  Stop Pacifier Sucking without tears with Thumb...   \n",
       "4  Stop Pacifier Sucking without tears with Thumb...   \n",
       "5  Stop Pacifier Sucking without tears with Thumb...   \n",
       "\n",
       "                                              review  rating  \\\n",
       "1  it came early and was not disappointed. i love...       5   \n",
       "2  Very soft and comfortable and warmer than it l...       5   \n",
       "3  This is a product well worth the purchase.  I ...       5   \n",
       "4  All of my kids have cried non-stop when I trie...       5   \n",
       "5  When the Binky Fairy came to our house, we did...       5   \n",
       "\n",
       "                                        review_clean  \n",
       "1  it came early and was not disappointed i love ...  \n",
       "2  Very soft and comfortable and warmer than it l...  \n",
       "3  This is a product well worth the purchase  I h...  \n",
       "4  All of my kids have cried nonstop when I tried...  \n",
       "5  When the Binky Fairy came to our house we didn...  "
      ]
     },
     "execution_count": 5,
     "metadata": {},
     "output_type": "execute_result"
    }
   ],
   "source": [
    "#remove neutral reviews\n",
    "\n",
    "df2 = df1[df1['rating'] !=3]\n",
    "df2.head()"
   ]
  },
  {
   "cell_type": "markdown",
   "metadata": {
    "deletable": true,
    "editable": true
   },
   "source": [
    "### Create binary sentiment feature based on rating"
   ]
  },
  {
   "cell_type": "code",
   "execution_count": 6,
   "metadata": {
    "collapsed": false,
    "deletable": true,
    "editable": true
   },
   "outputs": [
    {
     "name": "stderr",
     "output_type": "stream",
     "text": [
      "/Library/Frameworks/Python.framework/Versions/2.7/lib/python2.7/site-packages/ipykernel/__main__.py:4: SettingWithCopyWarning: \n",
      "A value is trying to be set on a copy of a slice from a DataFrame.\n",
      "Try using .loc[row_indexer,col_indexer] = value instead\n",
      "\n",
      "See the caveats in the documentation: http://pandas.pydata.org/pandas-docs/stable/indexing.html#indexing-view-versus-copy\n"
     ]
    }
   ],
   "source": [
    "#define sentiment feature: +1 (pos) if 4,5 stars, -1 (neg) if 1,2 stars\n",
    "\n",
    "g = lambda x: 1 if x > 3 else -1\n",
    "df2['sentiment'] = df2['rating'].apply(g) #complains but works"
   ]
  },
  {
   "cell_type": "markdown",
   "metadata": {
    "deletable": true,
    "editable": true
   },
   "source": [
    "# Logistic Model training\n",
    "\n",
    "1. Divide data into training (80%) and test (20%) sets\n",
    "2. Create bag-of-words representation (matrix) of training data, transform test data in the same way\n",
    "3. Train logistic regression model on training data\n",
    "4. Evaluate model performance using test data "
   ]
  },
  {
   "cell_type": "markdown",
   "metadata": {
    "deletable": true,
    "editable": true
   },
   "source": [
    "### Split data into test and train subsets (20% test, 80% train)"
   ]
  },
  {
   "cell_type": "code",
   "execution_count": 7,
   "metadata": {
    "collapsed": true,
    "deletable": true,
    "editable": true
   },
   "outputs": [],
   "source": [
    "from sklearn.model_selection import train_test_split\n",
    "\n",
    "train, test = train_test_split(df2, test_size = 0.2) #20% test, 80% train"
   ]
  },
  {
   "cell_type": "markdown",
   "metadata": {
    "deletable": true,
    "editable": true
   },
   "source": [
    "### Create bag-of-words sparse matrices from test and train data"
   ]
  },
  {
   "cell_type": "code",
   "execution_count": 8,
   "metadata": {
    "collapsed": false,
    "deletable": true,
    "editable": true
   },
   "outputs": [],
   "source": [
    "# Learn vocabulary from the training data and assign columns to words\n",
    "# Then convert the training data into a sparse matrix\n",
    "# Convert the test data into a sparse matrix, using the same word-column mapping\n",
    "\n",
    "from sklearn.feature_extraction.text import CountVectorizer\n",
    "\n",
    "vectorizer = CountVectorizer(token_pattern=r'\\b\\w+\\b') #token pattern to keep single-letter words\n",
    "train_matrix = vectorizer.fit_transform(train['review_clean'])\n",
    "test_matrix = vectorizer.transform(test['review_clean'])"
   ]
  },
  {
   "cell_type": "markdown",
   "metadata": {
    "deletable": true,
    "editable": true
   },
   "source": [
    "### Train logistic regression model on training data"
   ]
  },
  {
   "cell_type": "code",
   "execution_count": 9,
   "metadata": {
    "collapsed": false,
    "deletable": true,
    "editable": true
   },
   "outputs": [],
   "source": [
    "#Logistic regression model using the sparse word count matrix (train_matrix) as features and \n",
    "#the column sentiment of train_data as the target. \n",
    "\n",
    "from sklearn import linear_model\n",
    "\n",
    "logit1 = linear_model.LogisticRegression()\n",
    "model1 = logit1.fit(train_matrix, train['sentiment'])"
   ]
  },
  {
   "cell_type": "markdown",
   "metadata": {
    "deletable": true,
    "editable": true
   },
   "source": [
    "### Evaluate model performance: \n",
    "1. Confusion matrix\n",
    "2. Accuracy\n",
    "3. Precision\n",
    "4. Recall"
   ]
  },
  {
   "cell_type": "code",
   "execution_count": 10,
   "metadata": {
    "collapsed": false,
    "deletable": true,
    "editable": true
   },
   "outputs": [
    {
     "name": "stdout",
     "output_type": "stream",
     "text": [
      " target_label | predicted_label | count \n",
      "--------------+-----------------+-------\n",
      "     -1       |       -1        |  3886\n",
      "     -1       |        1        |  1426\n",
      "      1       |       -1        |   878\n",
      "      1       |        1        | 27161\n"
     ]
    }
   ],
   "source": [
    "# Print out the confusion matrix nicely formatted\n",
    "\n",
    "from sklearn.metrics import confusion_matrix\n",
    "\n",
    "cmat = confusion_matrix(y_true=test['sentiment'].values,\n",
    "                        y_pred=model1.predict(test_matrix),\n",
    "                        labels=model1.classes_) \n",
    "\n",
    "print ' target_label | predicted_label | count '\n",
    "print '--------------+-----------------+-------'\n",
    "for i, target_label in enumerate(model1.classes_):\n",
    "    for j, predicted_label in enumerate(model1.classes_):\n",
    "        print '{0:^13} | {1:^15} | {2:5d}'.format(target_label, predicted_label, cmat[i,j])"
   ]
  },
  {
   "cell_type": "code",
   "execution_count": 13,
   "metadata": {
    "collapsed": false,
    "deletable": true,
    "editable": true
   },
   "outputs": [
    {
     "name": "stdout",
     "output_type": "stream",
     "text": [
      "Test Accuracy: 0.930916614194\n",
      "Accuracy check:  0.930916614194\n",
      "Baseline accuracy: 0.840724416059\n"
     ]
    }
   ],
   "source": [
    "#Model accuracy. \n",
    "#Compare function method to hand-calculated \n",
    "#Compare to baseline - always picking majority class\n",
    "\n",
    "from sklearn.metrics import accuracy_score\n",
    "\n",
    "accuracy = accuracy_score(y_true=test['sentiment'].values, y_pred=model1.predict(test_matrix))\n",
    "print \"Test Accuracy: %s\" % accuracy\n",
    "\n",
    "#check accuracy using confusion matrix entries (tp+tn/all)\n",
    "print \"Accuracy check: \",(cmat[1,1]+cmat[0,0])/(cmat[1,1]+cmat[0,0]+ cmat[0,1] + cmat[1,0])\n",
    "\n",
    "#compare to baseline (pick majority class always)\n",
    "baseline = len(test[test['sentiment'] == 1])/len(test)\n",
    "print \"Baseline accuracy: %s\" % baseline"
   ]
  },
  {
   "cell_type": "code",
   "execution_count": 14,
   "metadata": {
    "collapsed": false,
    "deletable": true,
    "editable": true
   },
   "outputs": [
    {
     "name": "stdout",
     "output_type": "stream",
     "text": [
      "Precision on test data: 0.950117186134\n",
      "Precision check:  0.950117186134\n"
     ]
    }
   ],
   "source": [
    "# Model precision - proportion of positive predictions that are truly positive\n",
    "\n",
    "from sklearn.metrics import precision_score\n",
    "\n",
    "precision = precision_score(y_true=test['sentiment'].values, \n",
    "                            y_pred=model1.predict(test_matrix))\n",
    "print \"Precision on test data: %s\" % precision\n",
    "\n",
    "#check precision: tp/(tp+fp)\n",
    "\n",
    "print \"Precision check: \",cmat[1,1]/(cmat[1,1]+cmat[0,1])"
   ]
  },
  {
   "cell_type": "code",
   "execution_count": 15,
   "metadata": {
    "collapsed": false,
    "deletable": true,
    "editable": true
   },
   "outputs": [
    {
     "name": "stdout",
     "output_type": "stream",
     "text": [
      "Recall on test data: 0.968686472413\n",
      "Recall check:  0.968686472413\n"
     ]
    }
   ],
   "source": [
    "# Model recall - proportion of true positives that the model predicts to be positive\n",
    "\n",
    "from sklearn.metrics import recall_score\n",
    "\n",
    "recall = recall_score(y_true=test['sentiment'].values, \n",
    "                      y_pred=model1.predict(test_matrix))\n",
    "print \"Recall on test data: %s\" % recall\n",
    "\n",
    "#recall: tp/(tp+fn)\n",
    "\n",
    "print \"Recall check: \", cmat[1,1]/(cmat[1,1]+cmat[1,0])"
   ]
  },
  {
   "cell_type": "markdown",
   "metadata": {
    "deletable": true,
    "editable": true
   },
   "source": [
    "### All the classification metrics in one place"
   ]
  },
  {
   "cell_type": "code",
   "execution_count": 17,
   "metadata": {
    "collapsed": false,
    "deletable": true,
    "editable": true
   },
   "outputs": [
    {
     "name": "stdout",
     "output_type": "stream",
     "text": [
      "Classification report:\n",
      "             precision    recall  f1-score   support\n",
      "\n",
      "         -1       0.82      0.73      0.77      5312\n",
      "          1       0.95      0.97      0.96     28039\n",
      "\n",
      "avg / total       0.93      0.93      0.93     33351\n",
      "\n"
     ]
    }
   ],
   "source": [
    "# All the classification metrics in one place\n",
    "\n",
    "from sklearn.metrics import classification_report\n",
    "\n",
    "print \"Classification report:\"\n",
    "print classification_report(y_true=test['sentiment'].values, \n",
    "                      y_pred=model1.predict(test_matrix))"
   ]
  },
  {
   "cell_type": "markdown",
   "metadata": {
    "deletable": true,
    "editable": true
   },
   "source": [
    "# Precision-recall curve\n",
    "\n",
    "1. Test for single probability: \n",
    "   * change model threshold probability from 0.5 to 0.9 \n",
    "   * retrain logit model \n",
    "   * reevaluate model performance\n",
    "2. Produce precision-recall curve "
   ]
  },
  {
   "cell_type": "markdown",
   "metadata": {
    "deletable": true,
    "editable": true
   },
   "source": [
    "### Function to assign classes based on a chosen threshold value"
   ]
  },
  {
   "cell_type": "code",
   "execution_count": 18,
   "metadata": {
    "collapsed": false,
    "deletable": true,
    "editable": true
   },
   "outputs": [],
   "source": [
    "#given iterable of probabilities and a threshold, return a numpy array\n",
    "# of 1's for prob>threshold, -1's for prob<threshold\n",
    "# i.e. make class predictions for probabilities given arbitrary threshold\n",
    "\n",
    "def apply_threshold(probabilities, threshold):\n",
    "    myarr = np.ones((len(probabilities),), dtype=np.int) #default 1\n",
    "    for i, prob in enumerate(probabilities):\n",
    "        if (prob < threshold): # -1 if <threshold\n",
    "            myarr[i] = -1\n",
    "    return myarr"
   ]
  },
  {
   "cell_type": "markdown",
   "metadata": {
    "deletable": true,
    "editable": true
   },
   "source": [
    "### Compare to earlier results"
   ]
  },
  {
   "cell_type": "code",
   "execution_count": 19,
   "metadata": {
    "collapsed": false,
    "deletable": true,
    "editable": true
   },
   "outputs": [
    {
     "name": "stdout",
     "output_type": "stream",
     "text": [
      "Positive predictions (hand-apply threshold) 28587\n",
      "Positive predictions (default) 28587\n"
     ]
    }
   ],
   "source": [
    "#Check that this reproduces earlier result \n",
    "\n",
    "#Extract probabilities for model1 on test data matrix. (2nd column for +1 class)\n",
    "probabilities = model1.predict_proba(test_matrix)[:,1]\n",
    "\n",
    "#apply class predictions by hand using our own function\n",
    "preds = apply_threshold(probabilities, 0.5)\n",
    "\n",
    "counter = 0\n",
    "for pred in preds:\n",
    "    if pred == 1:\n",
    "        counter += 1\n",
    "print \"Positive predictions (hand-apply threshold)\",counter #should be equal \n",
    "print \"Positive predictions (default)\", cmat[0,1] + cmat[1,1] "
   ]
  },
  {
   "cell_type": "markdown",
   "metadata": {
    "deletable": true,
    "editable": true
   },
   "source": [
    "### Apply a large threshold and look at performance metrics"
   ]
  },
  {
   "cell_type": "code",
   "execution_count": 20,
   "metadata": {
    "collapsed": false,
    "deletable": true,
    "editable": true
   },
   "outputs": [
    {
     "name": "stdout",
     "output_type": "stream",
     "text": [
      "Recall on test data: 0.874424908164\n",
      "Precision on test data: 0.98087694031\n"
     ]
    }
   ],
   "source": [
    "#apply large threshold - 0.9 probability needed for assignment to positive class\n",
    "#expect: few false positives = high precision; many false negatives = low recall\n",
    "\n",
    "preds = apply_threshold(probabilities, 0.9)\n",
    "\n",
    "recall = recall_score(y_true=test['sentiment'].values, \n",
    "                      y_pred=preds)\n",
    "print \"Recall on test data: %s\" % recall\n",
    "precision = precision_score(y_true=test['sentiment'].values, \n",
    "                            y_pred=preds)\n",
    "print \"Precision on test data: %s\" % precision\n",
    "\n",
    "#precision goes up, recall goes down with higher threshold:\n",
    "# makes sense: more predictions are true, but miss some positives"
   ]
  },
  {
   "cell_type": "markdown",
   "metadata": {
    "deletable": true,
    "editable": true
   },
   "source": [
    "### Scan through threshold values to get (precision, recall) pairs\n"
   ]
  },
  {
   "cell_type": "code",
   "execution_count": 21,
   "metadata": {
    "collapsed": false,
    "deletable": true,
    "editable": true
   },
   "outputs": [],
   "source": [
    "threshold_values = np.linspace(0.5, 1, num=100)\n",
    "\n",
    "precision_all = []\n",
    "recall_all = []\n",
    "\n",
    "for thr in threshold_values:\n",
    "    preds = apply_threshold(probabilities, thr)\n",
    "\n",
    "    recall = recall_score(y_true=test['sentiment'].values, \n",
    "                          y_pred=preds)\n",
    "    precision = precision_score(y_true=test['sentiment'].values, \n",
    "                                y_pred=preds)\n",
    "        \n",
    "    recall_all.append(recall)\n",
    "    precision_all.append(precision)\n"
   ]
  },
  {
   "cell_type": "markdown",
   "metadata": {
    "deletable": true,
    "editable": true
   },
   "source": [
    "### Plot to get precision-recall curve"
   ]
  },
  {
   "cell_type": "code",
   "execution_count": 22,
   "metadata": {
    "collapsed": true,
    "deletable": true,
    "editable": true
   },
   "outputs": [],
   "source": [
    "#plot defaults\n",
    "\n",
    "def plot_pr_curve(precision, recall, title):\n",
    "    plt.rcParams['figure.figsize'] = 7, 5\n",
    "    plt.locator_params(axis = 'x', nbins = 5)\n",
    "    plt.plot(precision, recall, 'b-', linewidth=4.0, color = '#B0017F')\n",
    "    plt.title(title)\n",
    "    plt.xlabel('Precision')\n",
    "    plt.ylabel('Recall')\n",
    "    plt.rcParams.update({'font.size': 16})"
   ]
  },
  {
   "cell_type": "code",
   "execution_count": 23,
   "metadata": {
    "collapsed": false,
    "deletable": true,
    "editable": true
   },
   "outputs": [
    {
     "data": {
      "image/png": "[encoded data removed]",
      "text/plain": [
       "<matplotlib.figure.Figure at 0x11a98b790>"
      ]
     },
     "metadata": {},
     "output_type": "display_data"
    }
   ],
   "source": [
    "plot_pr_curve(precision_all,recall_all, \"P-R\")"
   ]
  },
  {
   "cell_type": "code",
   "execution_count": null,
   "metadata": {
    "collapsed": true
   },
   "outputs": [],
   "source": []
  }
 ],
 "metadata": {
  "kernelspec": {
   "display_name": "Python 2",
   "language": "python",
   "name": "python2"
  },
  "language_info": {
   "codemirror_mode": {
    "name": "ipython",
    "version": 2
   },
   "file_extension": ".py",
   "mimetype": "text/x-python",
   "name": "python",
   "nbconvert_exporter": "python",
   "pygments_lexer": "ipython2",
   "version": "2.7.13"
  }
 },
 "nbformat": 4,
 "nbformat_minor": 2
}
