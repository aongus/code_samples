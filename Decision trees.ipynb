{
 "cells": [
  {
   "cell_type": "markdown",
   "metadata": {},
   "source": [
    "# Decision trees & boosted decision trees\n",
    "\n",
    "Look at lending club loan data to make a decision tree for safe and risky loans.\n",
    "\n",
    "1. Make small and large trees, assess performance, and visualize\n",
    "2. Boost decision stumps and assess performance"
   ]
  },
  {
   "cell_type": "code",
   "execution_count": 1,
   "metadata": {
    "collapsed": true,
    "deletable": true,
    "editable": true
   },
   "outputs": [],
   "source": [
    "import os, sys, csv, string\n",
    "\n",
    "import numpy as np\n",
    "import pandas as pd\n",
    "import matplotlib as mpl\n",
    "import matplotlib.pyplot as plt\n",
    "\n",
    "from __future__ import division # 5/2 = 2.5\n",
    "\n",
    "%matplotlib inline"
   ]
  },
  {
   "cell_type": "markdown",
   "metadata": {},
   "source": [
    "# Initial data formatting\n",
    "\n",
    "1. Read in data (lending-club-data.csv)\n",
    "\n",
    "2. Change target feature to from \"risky loans\" (0,1) to \"safe loans\" (-1,+1)\n",
    "\n",
    "3. Select subset of features for tree\n",
    "\n",
    "4. Sample risky/safe classes to ensure balance "
   ]
  },
  {
   "cell_type": "markdown",
   "metadata": {},
   "source": [
    "### Read in data"
   ]
  },
  {
   "cell_type": "code",
   "execution_count": 2,
   "metadata": {
    "collapsed": false,
    "deletable": true,
    "editable": true
   },
   "outputs": [
    {
     "name": "stderr",
     "output_type": "stream",
     "text": [
      "/Library/Frameworks/Python.framework/Versions/2.7/lib/python2.7/site-packages/IPython/core/interactiveshell.py:2717: DtypeWarning: Columns (19,47) have mixed types. Specify dtype option on import or set low_memory=False.\n",
      "  interactivity=interactivity, compiler=compiler, result=result)\n"
     ]
    },
    {
     "data": {
      "text/html": [
       "<div>\n",
       "<table border=\"1\" class=\"dataframe\">\n",
       "  <thead>\n",
       "    <tr style=\"text-align: right;\">\n",
       "      <th></th>\n",
       "      <th>id</th>\n",
       "      <th>member_id</th>\n",
       "      <th>loan_amnt</th>\n",
       "      <th>funded_amnt</th>\n",
       "      <th>funded_amnt_inv</th>\n",
       "      <th>term</th>\n",
       "      <th>int_rate</th>\n",
       "      <th>installment</th>\n",
       "      <th>grade</th>\n",
       "      <th>sub_grade</th>\n",
       "      <th>...</th>\n",
       "      <th>sub_grade_num</th>\n",
       "      <th>delinq_2yrs_zero</th>\n",
       "      <th>pub_rec_zero</th>\n",
       "      <th>collections_12_mths_zero</th>\n",
       "      <th>short_emp</th>\n",
       "      <th>payment_inc_ratio</th>\n",
       "      <th>final_d</th>\n",
       "      <th>last_delinq_none</th>\n",
       "      <th>last_record_none</th>\n",
       "      <th>last_major_derog_none</th>\n",
       "    </tr>\n",
       "  </thead>\n",
       "  <tbody>\n",
       "    <tr>\n",
       "      <th>0</th>\n",
       "      <td>1077501</td>\n",
       "      <td>1296599</td>\n",
       "      <td>5000</td>\n",
       "      <td>5000</td>\n",
       "      <td>4975</td>\n",
       "      <td>36 months</td>\n",
       "      <td>10.65</td>\n",
       "      <td>162.87</td>\n",
       "      <td>B</td>\n",
       "      <td>B2</td>\n",
       "      <td>...</td>\n",
       "      <td>0.4</td>\n",
       "      <td>1.0</td>\n",
       "      <td>1.0</td>\n",
       "      <td>1.0</td>\n",
       "      <td>0</td>\n",
       "      <td>8.14350</td>\n",
       "      <td>20141201T000000</td>\n",
       "      <td>1</td>\n",
       "      <td>1</td>\n",
       "      <td>1</td>\n",
       "    </tr>\n",
       "    <tr>\n",
       "      <th>1</th>\n",
       "      <td>1077430</td>\n",
       "      <td>1314167</td>\n",
       "      <td>2500</td>\n",
       "      <td>2500</td>\n",
       "      <td>2500</td>\n",
       "      <td>60 months</td>\n",
       "      <td>15.27</td>\n",
       "      <td>59.83</td>\n",
       "      <td>C</td>\n",
       "      <td>C4</td>\n",
       "      <td>...</td>\n",
       "      <td>0.8</td>\n",
       "      <td>1.0</td>\n",
       "      <td>1.0</td>\n",
       "      <td>1.0</td>\n",
       "      <td>1</td>\n",
       "      <td>2.39320</td>\n",
       "      <td>20161201T000000</td>\n",
       "      <td>1</td>\n",
       "      <td>1</td>\n",
       "      <td>1</td>\n",
       "    </tr>\n",
       "    <tr>\n",
       "      <th>2</th>\n",
       "      <td>1077175</td>\n",
       "      <td>1313524</td>\n",
       "      <td>2400</td>\n",
       "      <td>2400</td>\n",
       "      <td>2400</td>\n",
       "      <td>36 months</td>\n",
       "      <td>15.96</td>\n",
       "      <td>84.33</td>\n",
       "      <td>C</td>\n",
       "      <td>C5</td>\n",
       "      <td>...</td>\n",
       "      <td>1.0</td>\n",
       "      <td>1.0</td>\n",
       "      <td>1.0</td>\n",
       "      <td>1.0</td>\n",
       "      <td>0</td>\n",
       "      <td>8.25955</td>\n",
       "      <td>20141201T000000</td>\n",
       "      <td>1</td>\n",
       "      <td>1</td>\n",
       "      <td>1</td>\n",
       "    </tr>\n",
       "    <tr>\n",
       "      <th>3</th>\n",
       "      <td>1076863</td>\n",
       "      <td>1277178</td>\n",
       "      <td>10000</td>\n",
       "      <td>10000</td>\n",
       "      <td>10000</td>\n",
       "      <td>36 months</td>\n",
       "      <td>13.49</td>\n",
       "      <td>339.31</td>\n",
       "      <td>C</td>\n",
       "      <td>C1</td>\n",
       "      <td>...</td>\n",
       "      <td>0.2</td>\n",
       "      <td>1.0</td>\n",
       "      <td>1.0</td>\n",
       "      <td>1.0</td>\n",
       "      <td>0</td>\n",
       "      <td>8.27585</td>\n",
       "      <td>20141201T000000</td>\n",
       "      <td>0</td>\n",
       "      <td>1</td>\n",
       "      <td>1</td>\n",
       "    </tr>\n",
       "    <tr>\n",
       "      <th>4</th>\n",
       "      <td>1075269</td>\n",
       "      <td>1311441</td>\n",
       "      <td>5000</td>\n",
       "      <td>5000</td>\n",
       "      <td>5000</td>\n",
       "      <td>36 months</td>\n",
       "      <td>7.90</td>\n",
       "      <td>156.46</td>\n",
       "      <td>A</td>\n",
       "      <td>A4</td>\n",
       "      <td>...</td>\n",
       "      <td>0.8</td>\n",
       "      <td>1.0</td>\n",
       "      <td>1.0</td>\n",
       "      <td>1.0</td>\n",
       "      <td>0</td>\n",
       "      <td>5.21533</td>\n",
       "      <td>20141201T000000</td>\n",
       "      <td>1</td>\n",
       "      <td>1</td>\n",
       "      <td>1</td>\n",
       "    </tr>\n",
       "  </tbody>\n",
       "</table>\n",
       "<p>5 rows × 68 columns</p>\n",
       "</div>"
      ],
      "text/plain": [
       "        id  member_id  loan_amnt  funded_amnt  funded_amnt_inv        term  \\\n",
       "0  1077501    1296599       5000         5000             4975   36 months   \n",
       "1  1077430    1314167       2500         2500             2500   60 months   \n",
       "2  1077175    1313524       2400         2400             2400   36 months   \n",
       "3  1076863    1277178      10000        10000            10000   36 months   \n",
       "4  1075269    1311441       5000         5000             5000   36 months   \n",
       "\n",
       "   int_rate  installment grade sub_grade          ...          sub_grade_num  \\\n",
       "0     10.65       162.87     B        B2          ...                    0.4   \n",
       "1     15.27        59.83     C        C4          ...                    0.8   \n",
       "2     15.96        84.33     C        C5          ...                    1.0   \n",
       "3     13.49       339.31     C        C1          ...                    0.2   \n",
       "4      7.90       156.46     A        A4          ...                    0.8   \n",
       "\n",
       "  delinq_2yrs_zero pub_rec_zero  collections_12_mths_zero short_emp  \\\n",
       "0              1.0          1.0                       1.0         0   \n",
       "1              1.0          1.0                       1.0         1   \n",
       "2              1.0          1.0                       1.0         0   \n",
       "3              1.0          1.0                       1.0         0   \n",
       "4              1.0          1.0                       1.0         0   \n",
       "\n",
       "  payment_inc_ratio          final_d last_delinq_none last_record_none  \\\n",
       "0           8.14350  20141201T000000                1                1   \n",
       "1           2.39320  20161201T000000                1                1   \n",
       "2           8.25955  20141201T000000                1                1   \n",
       "3           8.27585  20141201T000000                0                1   \n",
       "4           5.21533  20141201T000000                1                1   \n",
       "\n",
       "  last_major_derog_none  \n",
       "0                     1  \n",
       "1                     1  \n",
       "2                     1  \n",
       "3                     1  \n",
       "4                     1  \n",
       "\n",
       "[5 rows x 68 columns]"
      ]
     },
     "execution_count": 2,
     "metadata": {},
     "output_type": "execute_result"
    }
   ],
   "source": [
    "df1 = pd.read_csv('lending-club-data.csv')\n",
    "#df1 = df1.fillna({'review':''})  # fill in N/A's in the review column\n",
    "df1.head()\n",
    "#print len(df1)    "
   ]
  },
  {
   "cell_type": "markdown",
   "metadata": {},
   "source": [
    "### create \"safe loans\" feature with +-1 as values"
   ]
  },
  {
   "cell_type": "code",
   "execution_count": 3,
   "metadata": {
    "collapsed": false,
    "deletable": true,
    "editable": true
   },
   "outputs": [],
   "source": [
    "#bad_loans = 1 for risky, 0 for safe. rename to 'safe_loans' = +-1\n",
    "df1['safe_loans'] = df1['bad_loans'].apply(lambda x : +1 if x==0 else -1)\n",
    "del df1['bad_loans']"
   ]
  },
  {
   "cell_type": "code",
   "execution_count": 4,
   "metadata": {
    "collapsed": false,
    "deletable": true,
    "editable": true
   },
   "outputs": [
    {
     "name": "stdout",
     "output_type": "stream",
     "text": [
      "Safe:  0.811185331996\n",
      "Risky:  0.188814668004\n"
     ]
    }
   ],
   "source": [
    "#safe loans?\n",
    "\n",
    "safe = 0\n",
    "for loan in df1['safe_loans']:\n",
    "    if loan == 1:\n",
    "        safe += 1\n",
    "\n",
    "safe = safe/len(df1)\n",
    "        \n",
    "print \"Safe: \", safe\n",
    "print \"Risky: \", 1-safe "
   ]
  },
  {
   "cell_type": "markdown",
   "metadata": {},
   "source": [
    "### Select subset of data features and remake dataframe"
   ]
  },
  {
   "cell_type": "code",
   "execution_count": 5,
   "metadata": {
    "collapsed": true,
    "deletable": true,
    "editable": true
   },
   "outputs": [],
   "source": [
    "features = ['grade',                     # grade of the loan\n",
    "            'sub_grade',                 # sub-grade of the loan\n",
    "            'short_emp',                 # one year or less of employment\n",
    "            'emp_length_num',            # number of years of employment\n",
    "            'home_ownership',            # home_ownership status: own, mortgage or rent\n",
    "            'dti',                       # debt to income ratio\n",
    "            'purpose',                   # the purpose of the loan\n",
    "            'term',                      # the term of the loan\n",
    "            'last_delinq_none',          # has borrower had a delinquincy\n",
    "            'last_major_derog_none',     # has borrower had 90 day or worse rating\n",
    "            'revol_util',                # percent of available credit being used\n",
    "            'total_rec_late_fee',        # total late fees received to day\n",
    "           ]\n",
    "\n",
    "target = 'safe_loans'                    # prediction target (y) (+1 means safe, -1 is risky)\n",
    "\n",
    "# Extract the feature columns and target column\n",
    "loans = df1[features + [target]]"
   ]
  },
  {
   "cell_type": "code",
   "execution_count": 6,
   "metadata": {
    "collapsed": false,
    "deletable": true,
    "editable": true
   },
   "outputs": [
    {
     "name": "stdout",
     "output_type": "stream",
     "text": [
      "  grade sub_grade  short_emp  emp_length_num home_ownership    dti  \\\n",
      "0     B        B2          0              11           RENT  27.65   \n",
      "1     C        C4          1               1           RENT   1.00   \n",
      "2     C        C5          0              11           RENT   8.72   \n",
      "3     C        C1          0              11           RENT  20.00   \n",
      "4     A        A4          0               4           RENT  11.20   \n",
      "\n",
      "          purpose        term  last_delinq_none  last_major_derog_none  \\\n",
      "0     credit_card   36 months                 1                      1   \n",
      "1             car   60 months                 1                      1   \n",
      "2  small_business   36 months                 1                      1   \n",
      "3           other   36 months                 0                      1   \n",
      "4         wedding   36 months                 1                      1   \n",
      "\n",
      "   revol_util  total_rec_late_fee  safe_loans  \n",
      "0        83.7                0.00           1  \n",
      "1         9.4                0.00          -1  \n",
      "2        98.5                0.00           1  \n",
      "3        21.0               16.97           1  \n",
      "4        28.3                0.00           1  \n"
     ]
    }
   ],
   "source": [
    "print loans[0:5]"
   ]
  },
  {
   "cell_type": "markdown",
   "metadata": {},
   "source": [
    "### Generate dataset that balances safe and risky loans "
   ]
  },
  {
   "cell_type": "code",
   "execution_count": 7,
   "metadata": {
    "collapsed": false,
    "deletable": true,
    "editable": true
   },
   "outputs": [
    {
     "name": "stdout",
     "output_type": "stream",
     "text": [
      "Number of safe loans  : 99457\n",
      "Number of risky loans : 23150\n"
     ]
    }
   ],
   "source": [
    "#want to balance classes when training classifier\n",
    "safe_loans_raw = loans[loans[target] == +1]\n",
    "risky_loans_raw = loans[loans[target] == -1]\n",
    "print \"Number of safe loans  : %s\" % len(safe_loans_raw)\n",
    "print \"Number of risky loans : %s\" % len(risky_loans_raw)"
   ]
  },
  {
   "cell_type": "code",
   "execution_count": 8,
   "metadata": {
    "collapsed": false,
    "deletable": true,
    "editable": true
   },
   "outputs": [
    {
     "name": "stdout",
     "output_type": "stream",
     "text": [
      "0.232763908021\n"
     ]
    }
   ],
   "source": [
    "#undersample safe loans\n",
    "percentage = len(risky_loans_raw)/len(safe_loans_raw)\n",
    "print percentage\n",
    "\n",
    "risky_loans = risky_loans_raw\n",
    "safe_loans = safe_loans_raw.sample(frac=percentage, random_state=1)\n",
    "\n",
    "# Append the risky_loans with the downsampled version of safe_loans\n",
    "loans_data = risky_loans.append(safe_loans)"
   ]
  },
  {
   "cell_type": "markdown",
   "metadata": {},
   "source": [
    "# Decision Tree \n",
    "\n",
    "1. Convert data to one-hot encoding (create feature for every category, so that the decision tree can make binary decisions for every possibility)\n",
    "\n",
    "2. Divide data into training (80%) and validation (20%) sets\n",
    "\n",
    "3. Train a small tree (depth 2) and a large tree (depth 6) on the training data\n",
    "\n",
    "4. Visualize the small tree \n",
    "\n",
    "5. Assess performance of tree models"
   ]
  },
  {
   "cell_type": "markdown",
   "metadata": {},
   "source": [
    "### One-hot encoding \n",
    "Ex.: instead of \"home_ownership\" with 3 categories \"rent, own, mortgage\", create three features \"home_ownership_rent\", \"home_ownership_own\", \"home_ownership_mortgage\" that are all (0,1)"
   ]
  },
  {
   "cell_type": "code",
   "execution_count": 9,
   "metadata": {
    "collapsed": false,
    "deletable": true,
    "editable": true
   },
   "outputs": [],
   "source": [
    "#one-hot encode\n",
    "\n",
    "loans_1hot = pd.get_dummies(loans_data)"
   ]
  },
  {
   "cell_type": "markdown",
   "metadata": {},
   "source": [
    "### Split data into test and validation subsets (20% validation, 80% train)"
   ]
  },
  {
   "cell_type": "code",
   "execution_count": 10,
   "metadata": {
    "collapsed": true,
    "deletable": true,
    "editable": true
   },
   "outputs": [],
   "source": [
    "#80-20 training, validation split\n",
    "from sklearn.model_selection import train_test_split\n",
    "train, test = train_test_split(loans_1hot, test_size = 0.2)"
   ]
  },
  {
   "cell_type": "markdown",
   "metadata": {},
   "source": [
    "### Train a decision tree with depth 6"
   ]
  },
  {
   "cell_type": "code",
   "execution_count": 11,
   "metadata": {
    "collapsed": false,
    "deletable": true,
    "editable": true
   },
   "outputs": [],
   "source": [
    "from sklearn import tree\n",
    "tree6 = tree.DecisionTreeClassifier(max_depth=6)\n",
    "\n",
    "test_targ = test['safe_loans']\n",
    "train_targ = train['safe_loans']\n",
    "\n",
    "testX = test.drop('safe_loans', 1)\n",
    "trainX = train.drop('safe_loans', 1)\n",
    "\n",
    "decision_tree_model = tree6.fit(trainX, train_targ)"
   ]
  },
  {
   "cell_type": "markdown",
   "metadata": {},
   "source": [
    "### Train a small decision tree with depth 2"
   ]
  },
  {
   "cell_type": "code",
   "execution_count": 12,
   "metadata": {
    "collapsed": true,
    "deletable": true,
    "editable": true
   },
   "outputs": [],
   "source": [
    "tree2 = tree.DecisionTreeClassifier(max_depth=2)\n",
    "small_model = tree2.fit(trainX, train_targ)\n"
   ]
  },
  {
   "cell_type": "markdown",
   "metadata": {},
   "source": [
    "### Visualize the small tree using graphviz"
   ]
  },
  {
   "cell_type": "code",
   "execution_count": 13,
   "metadata": {
    "collapsed": false,
    "deletable": true,
    "editable": true
   },
   "outputs": [
    {
     "data": {
      "image/svg+xml": [
       "<?xml version=\"1.0\" encoding=\"UTF-8\" standalone=\"no\"?>\n",
       "<!DOCTYPE svg PUBLIC \"-//W3C//DTD SVG 1.1//EN\"\n",
       " \"http://www.w3.org/Graphics/SVG/1.1/DTD/svg11.dtd\">\n",
       "<!-- Generated by graphviz version 2.38.0 (20140413.2041)\n",
       " -->\n",
       "<!-- Title: Tree Pages: 1 -->\n",
       "<svg width=\"599pt\" height=\"269pt\"\n",
       " viewBox=\"0.00 0.00 599.00 269.00\" xmlns=\"http://www.w3.org/2000/svg\" xmlns:xlink=\"http://www.w3.org/1999/xlink\">\n",
       "<g id=\"graph0\" class=\"graph\" transform=\"scale(1 1) rotate(0) translate(4 265)\">\n",
       "<title>Tree</title>\n",
       "<polygon fill=\"white\" stroke=\"none\" points=\"-4,4 -4,-265 595,-265 595,4 -4,4\"/>\n",
       "<!-- 0 -->\n",
       "<g id=\"node1\" class=\"node\"><title>0</title>\n",
       "<polygon fill=\"none\" stroke=\"black\" points=\"382.5,-261 234.5,-261 234.5,-193 382.5,-193 382.5,-261\"/>\n",
       "<text text-anchor=\"middle\" x=\"308.5\" y=\"-245.8\" font-family=\"Times,serif\" font-size=\"14.00\">grade_A &lt;= 0.5</text>\n",
       "<text text-anchor=\"middle\" x=\"308.5\" y=\"-230.8\" font-family=\"Times,serif\" font-size=\"14.00\">gini = 0.5</text>\n",
       "<text text-anchor=\"middle\" x=\"308.5\" y=\"-215.8\" font-family=\"Times,serif\" font-size=\"14.00\">samples = 37040</text>\n",
       "<text text-anchor=\"middle\" x=\"308.5\" y=\"-200.8\" font-family=\"Times,serif\" font-size=\"14.00\">value = [18481, 18559]</text>\n",
       "</g>\n",
       "<!-- 1 -->\n",
       "<g id=\"node2\" class=\"node\"><title>1</title>\n",
       "<polygon fill=\"none\" stroke=\"black\" points=\"292.5,-157 144.5,-157 144.5,-89 292.5,-89 292.5,-157\"/>\n",
       "<text text-anchor=\"middle\" x=\"218.5\" y=\"-141.8\" font-family=\"Times,serif\" font-size=\"14.00\">grade_B &lt;= 0.5</text>\n",
       "<text text-anchor=\"middle\" x=\"218.5\" y=\"-126.8\" font-family=\"Times,serif\" font-size=\"14.00\">gini = 0.4967</text>\n",
       "<text text-anchor=\"middle\" x=\"218.5\" y=\"-111.8\" font-family=\"Times,serif\" font-size=\"14.00\">samples = 31806</text>\n",
       "<text text-anchor=\"middle\" x=\"218.5\" y=\"-96.8\" font-family=\"Times,serif\" font-size=\"14.00\">value = [17187, 14619]</text>\n",
       "</g>\n",
       "<!-- 0&#45;&gt;1 -->\n",
       "<g id=\"edge1\" class=\"edge\"><title>0&#45;&gt;1</title>\n",
       "<path fill=\"none\" stroke=\"black\" d=\"M279.28,-192.884C271.42,-183.976 262.825,-174.235 254.638,-164.957\"/>\n",
       "<polygon fill=\"black\" stroke=\"black\" points=\"257.122,-162.482 247.882,-157.299 251.874,-167.113 257.122,-162.482\"/>\n",
       "<text text-anchor=\"middle\" x=\"246.322\" y=\"-178.551\" font-family=\"Times,serif\" font-size=\"14.00\">True</text>\n",
       "</g>\n",
       "<!-- 4 -->\n",
       "<g id=\"node5\" class=\"node\"><title>4</title>\n",
       "<polygon fill=\"none\" stroke=\"black\" points=\"488.5,-157 310.5,-157 310.5,-89 488.5,-89 488.5,-157\"/>\n",
       "<text text-anchor=\"middle\" x=\"399.5\" y=\"-141.8\" font-family=\"Times,serif\" font-size=\"14.00\">total_rec_late_fee &lt;= 7.4215</text>\n",
       "<text text-anchor=\"middle\" x=\"399.5\" y=\"-126.8\" font-family=\"Times,serif\" font-size=\"14.00\">gini = 0.3722</text>\n",
       "<text text-anchor=\"middle\" x=\"399.5\" y=\"-111.8\" font-family=\"Times,serif\" font-size=\"14.00\">samples = 5234</text>\n",
       "<text text-anchor=\"middle\" x=\"399.5\" y=\"-96.8\" font-family=\"Times,serif\" font-size=\"14.00\">value = [1294, 3940]</text>\n",
       "</g>\n",
       "<!-- 0&#45;&gt;4 -->\n",
       "<g id=\"edge4\" class=\"edge\"><title>0&#45;&gt;4</title>\n",
       "<path fill=\"none\" stroke=\"black\" d=\"M338.045,-192.884C345.992,-183.976 354.682,-174.235 362.96,-164.957\"/>\n",
       "<polygon fill=\"black\" stroke=\"black\" points=\"365.746,-167.091 369.792,-157.299 360.523,-162.431 365.746,-167.091\"/>\n",
       "<text text-anchor=\"middle\" x=\"371.214\" y=\"-178.559\" font-family=\"Times,serif\" font-size=\"14.00\">False</text>\n",
       "</g>\n",
       "<!-- 2 -->\n",
       "<g id=\"node3\" class=\"node\"><title>2</title>\n",
       "<polygon fill=\"none\" stroke=\"black\" points=\"141,-53 0,-53 0,-0 141,-0 141,-53\"/>\n",
       "<text text-anchor=\"middle\" x=\"70.5\" y=\"-37.8\" font-family=\"Times,serif\" font-size=\"14.00\">gini = 0.4822</text>\n",
       "<text text-anchor=\"middle\" x=\"70.5\" y=\"-22.8\" font-family=\"Times,serif\" font-size=\"14.00\">samples = 21688</text>\n",
       "<text text-anchor=\"middle\" x=\"70.5\" y=\"-7.8\" font-family=\"Times,serif\" font-size=\"14.00\">value = [12888, 8800]</text>\n",
       "</g>\n",
       "<!-- 1&#45;&gt;2 -->\n",
       "<g id=\"edge2\" class=\"edge\"><title>1&#45;&gt;2</title>\n",
       "<path fill=\"none\" stroke=\"black\" d=\"M166.737,-88.9485C151.407,-79.1601 134.673,-68.4756 119.522,-58.8015\"/>\n",
       "<polygon fill=\"black\" stroke=\"black\" points=\"121.119,-55.6685 110.807,-53.2367 117.352,-61.5683 121.119,-55.6685\"/>\n",
       "</g>\n",
       "<!-- 3 -->\n",
       "<g id=\"node4\" class=\"node\"><title>3</title>\n",
       "<polygon fill=\"none\" stroke=\"black\" points=\"293.5,-53 159.5,-53 159.5,-0 293.5,-0 293.5,-53\"/>\n",
       "<text text-anchor=\"middle\" x=\"226.5\" y=\"-37.8\" font-family=\"Times,serif\" font-size=\"14.00\">gini = 0.4887</text>\n",
       "<text text-anchor=\"middle\" x=\"226.5\" y=\"-22.8\" font-family=\"Times,serif\" font-size=\"14.00\">samples = 10118</text>\n",
       "<text text-anchor=\"middle\" x=\"226.5\" y=\"-7.8\" font-family=\"Times,serif\" font-size=\"14.00\">value = [4299, 5819]</text>\n",
       "</g>\n",
       "<!-- 1&#45;&gt;3 -->\n",
       "<g id=\"edge3\" class=\"edge\"><title>1&#45;&gt;3</title>\n",
       "<path fill=\"none\" stroke=\"black\" d=\"M221.298,-88.9485C222.003,-80.6238 222.762,-71.6509 223.478,-63.2027\"/>\n",
       "<polygon fill=\"black\" stroke=\"black\" points=\"226.965,-63.4963 224.321,-53.2367 219.99,-62.9058 226.965,-63.4963\"/>\n",
       "</g>\n",
       "<!-- 5 -->\n",
       "<g id=\"node6\" class=\"node\"><title>5</title>\n",
       "<polygon fill=\"none\" stroke=\"black\" points=\"459.5,-53 325.5,-53 325.5,-0 459.5,-0 459.5,-53\"/>\n",
       "<text text-anchor=\"middle\" x=\"392.5\" y=\"-37.8\" font-family=\"Times,serif\" font-size=\"14.00\">gini = 0.3564</text>\n",
       "<text text-anchor=\"middle\" x=\"392.5\" y=\"-22.8\" font-family=\"Times,serif\" font-size=\"14.00\">samples = 5081</text>\n",
       "<text text-anchor=\"middle\" x=\"392.5\" y=\"-7.8\" font-family=\"Times,serif\" font-size=\"14.00\">value = [1179, 3902]</text>\n",
       "</g>\n",
       "<!-- 4&#45;&gt;5 -->\n",
       "<g id=\"edge5\" class=\"edge\"><title>4&#45;&gt;5</title>\n",
       "<path fill=\"none\" stroke=\"black\" d=\"M397.052,-88.9485C396.442,-80.7153 395.785,-71.848 395.165,-63.4814\"/>\n",
       "<polygon fill=\"black\" stroke=\"black\" points=\"398.636,-62.9508 394.406,-53.2367 391.655,-63.468 398.636,-62.9508\"/>\n",
       "</g>\n",
       "<!-- 6 -->\n",
       "<g id=\"node7\" class=\"node\"><title>6</title>\n",
       "<polygon fill=\"none\" stroke=\"black\" points=\"591,-53 478,-53 478,-0 591,-0 591,-53\"/>\n",
       "<text text-anchor=\"middle\" x=\"534.5\" y=\"-37.8\" font-family=\"Times,serif\" font-size=\"14.00\">gini = 0.3734</text>\n",
       "<text text-anchor=\"middle\" x=\"534.5\" y=\"-22.8\" font-family=\"Times,serif\" font-size=\"14.00\">samples = 153</text>\n",
       "<text text-anchor=\"middle\" x=\"534.5\" y=\"-7.8\" font-family=\"Times,serif\" font-size=\"14.00\">value = [115, 38]</text>\n",
       "</g>\n",
       "<!-- 4&#45;&gt;6 -->\n",
       "<g id=\"edge6\" class=\"edge\"><title>4&#45;&gt;6</title>\n",
       "<path fill=\"none\" stroke=\"black\" d=\"M446.716,-88.9485C460.569,-79.2516 475.678,-68.6752 489.396,-59.073\"/>\n",
       "<polygon fill=\"black\" stroke=\"black\" points=\"491.548,-61.8387 497.733,-53.2367 487.534,-56.1041 491.548,-61.8387\"/>\n",
       "</g>\n",
       "</g>\n",
       "</svg>\n"
      ],
      "text/plain": [
       "<graphviz.files.Source at 0x10a4b72d0>"
      ]
     },
     "execution_count": 13,
     "metadata": {},
     "output_type": "execute_result"
    }
   ],
   "source": [
    "from graphviz import Source\n",
    "\n",
    "\n",
    "#in-place, no file I/O \n",
    "tree_gr = tree.export_graphviz(small_model,out_file=None,feature_names=list(trainX.columns.values))\n",
    "Source(tree_gr)\n",
    "\n",
    "#view tree by creating and reading a dot file of the tree\n",
    "\n",
    "#tree.export_graphviz(small_model,out_file='tree.dot',feature_names=list(trainX.columns.values))\n",
    "#file = open('tree.dot', 'r') #read dot file\n",
    "#text=file.read()\n",
    "#Source(text)"
   ]
  },
  {
   "cell_type": "code",
   "execution_count": null,
   "metadata": {
    "collapsed": false,
    "deletable": true,
    "editable": true
   },
   "outputs": [],
   "source": [
    "#6-deep tree, run this cell to visualize\n",
    "tree_gr6 = tree.export_graphviz(decision_tree_model,out_file=None,feature_names=list(trainX.columns.values))\n",
    "Source(tree_gr6)"
   ]
  },
  {
   "cell_type": "markdown",
   "metadata": {},
   "source": [
    "### Tree model performance"
   ]
  },
  {
   "cell_type": "code",
   "execution_count": 14,
   "metadata": {
    "collapsed": true,
    "deletable": true,
    "editable": true
   },
   "outputs": [],
   "source": [
    "from sklearn import metrics\n",
    "def measure_performance(X,y,clf, show_accuracy=True, show_classification_report=True, show_confusion_matrix=True):\n",
    "    y_pred=clf.predict(X)   \n",
    "    if show_accuracy:\n",
    "        print (\"Accuracy:{0:.3f}\".format(metrics.accuracy_score(y,y_pred)))\n",
    "\n",
    "    if show_classification_report:\n",
    "        print (\"Classification report\")\n",
    "        print (metrics.classification_report(y,y_pred))\n",
    "        \n",
    "    if show_confusion_matrix:\n",
    "        print (\"Confusion matrix\")\n",
    "        print (metrics.confusion_matrix(y,y_pred))"
   ]
  },
  {
   "cell_type": "markdown",
   "metadata": {},
   "source": [
    "### Depth 6 tree performance"
   ]
  },
  {
   "cell_type": "code",
   "execution_count": 15,
   "metadata": {
    "collapsed": false,
    "deletable": true,
    "editable": true
   },
   "outputs": [
    {
     "name": "stdout",
     "output_type": "stream",
     "text": [
      "Accuracy:0.635\n",
      "Classification report\n",
      "             precision    recall  f1-score   support\n",
      "\n",
      "         -1       0.63      0.66      0.64      4669\n",
      "          1       0.64      0.61      0.62      4591\n",
      "\n",
      "avg / total       0.64      0.64      0.63      9260\n",
      "\n",
      "Confusion matrix\n",
      "[[3067 1602]\n",
      " [1777 2814]]\n"
     ]
    }
   ],
   "source": [
    "measure_performance(testX,test_targ,decision_tree_model, \n",
    "                    show_classification_report=True, \n",
    "                    show_confusion_matrix=True)"
   ]
  },
  {
   "cell_type": "markdown",
   "metadata": {},
   "source": [
    "### Depth 2 tree performance"
   ]
  },
  {
   "cell_type": "code",
   "execution_count": 16,
   "metadata": {
    "collapsed": false,
    "deletable": true,
    "editable": true
   },
   "outputs": [
    {
     "name": "stdout",
     "output_type": "stream",
     "text": [
      "Accuracy:0.619\n",
      "Classification report\n",
      "             precision    recall  f1-score   support\n",
      "\n",
      "         -1       0.60      0.71      0.65      4669\n",
      "          1       0.64      0.53      0.58      4591\n",
      "\n",
      "avg / total       0.62      0.62      0.62      9260\n",
      "\n",
      "Confusion matrix\n",
      "[[3319 1350]\n",
      " [2179 2412]]\n"
     ]
    }
   ],
   "source": [
    "measure_performance(testX,test_targ,small_model, \n",
    "                    show_classification_report=True, \n",
    "                    show_confusion_matrix=True)"
   ]
  },
  {
   "cell_type": "markdown",
   "metadata": {},
   "source": [
    "# AdaBoost\n",
    "\n",
    "The accuracy of the decision trees is not very good. Can we do better with boosting?\n",
    "\n",
    "1. Create a single boosted decision tree from the same training data and assess its performance\n",
    "\n",
    "2. Scan over number of trees in the boosting to evaluate the evolution of the model accuracy"
   ]
  },
  {
   "cell_type": "code",
   "execution_count": 17,
   "metadata": {
    "collapsed": false,
    "deletable": true,
    "editable": true
   },
   "outputs": [],
   "source": [
    "#AdaBoost\n",
    "\n",
    "from sklearn import ensemble\n",
    "\n",
    "aboost = ensemble.AdaBoostClassifier(n_estimators = 100) #classifier is default = decision stump\n",
    "aboost_model = aboost.fit(trainX, train_targ)"
   ]
  },
  {
   "cell_type": "markdown",
   "metadata": {},
   "source": [
    "### Boosted tree performance is better:\n",
    "\n",
    "(slightly, depends on data selection)"
   ]
  },
  {
   "cell_type": "code",
   "execution_count": 18,
   "metadata": {
    "collapsed": false
   },
   "outputs": [
    {
     "name": "stdout",
     "output_type": "stream",
     "text": [
      "Accuracy:0.645\n",
      "Classification report\n",
      "             precision    recall  f1-score   support\n",
      "\n",
      "         -1       0.65      0.63      0.64      4669\n",
      "          1       0.64      0.66      0.65      4591\n",
      "\n",
      "avg / total       0.65      0.64      0.64      9260\n",
      "\n",
      "Confusion matrix\n",
      "[[2959 1710]\n",
      " [1579 3012]]\n"
     ]
    }
   ],
   "source": [
    "measure_performance(testX,test_targ,aboost_model, \n",
    "                    show_classification_report=True, \n",
    "                    show_confusion_matrix=True)"
   ]
  },
  {
   "cell_type": "markdown",
   "metadata": {},
   "source": [
    "### Scan over number of trees and determine accuracy of model for test and verification datasets"
   ]
  },
  {
   "cell_type": "code",
   "execution_count": 19,
   "metadata": {
    "collapsed": false
   },
   "outputs": [],
   "source": [
    "#this cell is slow due to large number of trees to train\n",
    "\n",
    "n_trees = np.linspace(1, 100, num=50, dtype=int)\n",
    "#print n_trees\n",
    "\n",
    "test_acc = []\n",
    "train_acc = []\n",
    "\n",
    "for n in n_trees:\n",
    "    #make the BDT's\n",
    "    aboost_n = ensemble.AdaBoostClassifier(n_estimators = n) #classifier is default = decision stump\n",
    "    aboost_model_n = aboost_n.fit(trainX, train_targ)\n",
    "\n",
    "    # accuracy\n",
    "    train_accuracy = metrics.accuracy_score(y_true=train_targ, y_pred=aboost_model_n.predict(trainX))\n",
    "    test_accuracy = metrics.accuracy_score(y_true=test_targ, y_pred=aboost_model_n.predict(testX))\n",
    "    \n",
    "    train_acc.append(train_accuracy)\n",
    "    test_acc.append(test_accuracy)\n",
    "\n",
    "    "
   ]
  },
  {
   "cell_type": "code",
   "execution_count": 20,
   "metadata": {
    "collapsed": false
   },
   "outputs": [],
   "source": [
    "#get accuracy of simple trees (depth 2 and 6) to compare with boosted\n",
    "\n",
    "small_acc = metrics.accuracy_score(test_targ,small_model.predict(testX))\n",
    "large_acc = metrics.accuracy_score(test_targ,decision_tree_model.predict(testX))"
   ]
  },
  {
   "cell_type": "markdown",
   "metadata": {},
   "source": [
    "### Plot the model accuracy vs number of trees on training and verification datasets, compare to simple trees\n",
    "\n",
    "we see that for more than ~10 trees, the ensemble trees perform better than the single complex tree, but the ensemble performance does not continue to improve much for increasing number of trees. "
   ]
  },
  {
   "cell_type": "code",
   "execution_count": 21,
   "metadata": {
    "collapsed": false
   },
   "outputs": [
    {
     "data": {
      "text/plain": [
       "<matplotlib.legend.Legend at 0x11b0e4610>"
      ]
     },
     "execution_count": 21,
     "metadata": {},
     "output_type": "execute_result"
    },
    {
     "data": {
      "image/png": "[encoded data removed]",
      "text/plain": [
       "<matplotlib.figure.Figure at 0x10b865250>"
      ]
     },
     "metadata": {},
     "output_type": "display_data"
    }
   ],
   "source": [
    "#plot model accuracy for \n",
    "# 1. boosted on training data\n",
    "# 2. boosted on verification data\n",
    "# 3. Depth 6 tree on verification data\n",
    "# 4. Depth 2 tree on verification data\n",
    "\n",
    "plt.rcParams['figure.figsize'] = 7, 5\n",
    "plt.plot(n_trees, train_acc, 'b-', linewidth=2.0, label='Training accuracy')\n",
    "plt.plot(n_trees, test_acc, 'r-', linewidth=2.0, label='Verification accuracy')\n",
    "\n",
    "plt.plot((0, 100), (large_acc, large_acc), 'g-',linewidth=2.0,label='Depth 6 tree verif. acc.')\n",
    "plt.plot((0, 100), (small_acc, small_acc), 'k-',linewidth=2.0, label='Depth 2 tree verif. acc.')\n",
    "\n",
    "plt.ylim(0.55,0.7)\n",
    "plt.xlabel(\"Number of trees\")\n",
    "plt.ylabel(\"Accuracy\")\n",
    "plt.title(\"Model accuracy vs. number of trees\")\n",
    "\n",
    "plt.legend(loc='lower right', fancybox=False, shadow=False)"
   ]
  },
  {
   "cell_type": "code",
   "execution_count": null,
   "metadata": {
    "collapsed": true
   },
   "outputs": [],
   "source": []
  }
 ],
 "metadata": {
  "kernelspec": {
   "display_name": "Python 2",
   "language": "python",
   "name": "python2"
  },
  "language_info": {
   "codemirror_mode": {
    "name": "ipython",
    "version": 2
   },
   "file_extension": ".py",
   "mimetype": "text/x-python",
   "name": "python",
   "nbconvert_exporter": "python",
   "pygments_lexer": "ipython2",
   "version": "2.7.13"
  }
 },
 "nbformat": 4,
 "nbformat_minor": 2
}
